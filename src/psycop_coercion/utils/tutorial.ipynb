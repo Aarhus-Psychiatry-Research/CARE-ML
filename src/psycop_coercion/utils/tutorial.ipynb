{
 "cells": [
  {
   "cell_type": "code",
   "execution_count": null,
   "metadata": {},
   "outputs": [],
   "source": [
    "from skimpy import skim\n",
    "from psycop_coercion.utils.synth_data import create_synth_prediction_times\n",
    "\n",
    "df_prediction_times = create_synth_prediction_times()\n",
    "\n",
    "skim(df_prediction_times)\n",
    "df_prediction_times.sort_values(by=[\"entity_id\"])"
   ]
  },
  {
   "cell_type": "code",
   "execution_count": null,
   "metadata": {},
   "outputs": [],
   "source": [
    "from psycop_coercion.utils.synth_data import create_synth_feature_binary\n",
    "\n",
    "feature_binary = create_synth_feature_binary()\n",
    "\n",
    "skim(feature_binary)\n",
    "feature_binary.sort_values(by=[\"entity_id\"])"
   ]
  },
  {
   "cell_type": "code",
   "execution_count": null,
   "metadata": {},
   "outputs": [],
   "source": [
    "from timeseriesflattener.feature_spec_objects import PredictorSpec\n",
    "from timeseriesflattener.resolve_multiple_functions import boolean\n",
    "import numpy as np\n",
    "\n",
    "pred_spec = PredictorSpec(\n",
    "    values_df=feature_binary,\n",
    "    lookbehind_days=365,\n",
    "    fallback=np.nan,\n",
    "    resolve_multiple_fn=boolean,\n",
    "    feature_name=\"value\",\n",
    ")"
   ]
  },
  {
   "cell_type": "code",
   "execution_count": null,
   "metadata": {},
   "outputs": [],
   "source": [
    "from psycop_coercion.utils.synth_data import create_synth_feature_float\n",
    "\n",
    "feature_float = create_synth_feature_float()\n",
    "\n",
    "skim(feature_float)\n",
    "feature_float.sort_values(by=[\"entity_id\"])"
   ]
  },
  {
   "cell_type": "code",
   "execution_count": null,
   "metadata": {},
   "outputs": [],
   "source": [
    "from timeseriesflattener.feature_spec_objects import PredictorGroupSpec\n",
    "from timeseriesflattener.resolve_multiple_functions import mean, minimum, maximum\n",
    "\n",
    "pred_group_spec = PredictorGroupSpec(\n",
    "    values_df=feature_float,\n",
    "    lookbehind_days=[365],\n",
    "    fallback=[np.nan],\n",
    "    resolve_multiple_fn=[mean, minimum, maximum,],\n",
    "    feature_name=\"value\",\n",
    ").create_combinations()"
   ]
  },
  {
   "cell_type": "code",
   "execution_count": null,
   "metadata": {},
   "outputs": [],
   "source": [
    "from psycop_coercion.utils.synth_data import create_synth_feature_text\n",
    "\n",
    "feature_text = create_synth_feature_text()\n",
    "\n",
    "skim(feature_text)\n",
    "feature_text.sort_values(by=[\"entity_id\"])"
   ]
  },
  {
   "cell_type": "code",
   "execution_count": null,
   "metadata": {},
   "outputs": [],
   "source": [
    "from timeseriesflattener.feature_spec_objects import TextPredictorSpec\n",
    "from timeseriesflattener.resolve_multiple_functions import concatenate\n",
    "\n",
    "text_spec = TextPredictorSpec(\n",
    "    values_df=feature_float,\n",
    "    lookbehind_days=365,\n",
    "    fallback=np.nan,\n",
    "    resolve_multiple_fn=concatenate,\n",
    "    feature_name=\"value\",\n",
    ")"
   ]
  },
  {
   "cell_type": "code",
   "execution_count": null,
   "metadata": {},
   "outputs": [],
   "source": [
    "from timeseriesflattener.flattened_dataset import TimeseriesFlattener\n",
    "\n",
    "ts_flattener = TimeseriesFlattener(\n",
    "    prediction_times_df=df_prediction_times,\n",
    "    entity_id_col_name=\"entity_id\",\n",
    "    timestamp_col_name=\"timestamp\",\n",
    "    n_workers=4,\n",
    "    drop_pred_times_with_insufficient_look_distance=True,\n",
    ")"
   ]
  },
  {
   "cell_type": "code",
   "execution_count": null,
   "metadata": {},
   "outputs": [],
   "source": [
    "specs = pred_group_spec + [pred_spec] + [text_spec]\n",
    "\n",
    "ts_flattener.add_spec(specs)\n",
    "\n",
    "flattened_df = ts_flattener.get_df()"
   ]
  },
  {
   "cell_type": "code",
   "execution_count": null,
   "metadata": {},
   "outputs": [],
   "source": [
    "skim(flattened_df)\n",
    "\n",
    "flattened_df.sort_values(by=[\"entity_id\"])"
   ]
  }
 ],
 "metadata": {
  "language_info": {
   "name": "python"
  },
  "orig_nbformat": 4
 },
 "nbformat": 4,
 "nbformat_minor": 2
}
